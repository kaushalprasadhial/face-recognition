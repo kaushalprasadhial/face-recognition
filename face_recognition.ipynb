{
  "nbformat": 4,
  "nbformat_minor": 0,
  "metadata": {
    "colab": {
      "name": "face recognition.ipynb",
      "provenance": [],
      "collapsed_sections": [],
      "toc_visible": true,
      "include_colab_link": true
    },
    "kernelspec": {
      "name": "python3",
      "display_name": "Python 3"
    },
    "accelerator": "GPU"
  },
  "cells": [
    {
      "cell_type": "markdown",
      "metadata": {
        "id": "view-in-github",
        "colab_type": "text"
      },
      "source": [
        "<a href=\"https://colab.research.google.com/github/kaushalprasadhial/face-recognition/blob/master/face_recognition.ipynb\" target=\"_parent\"><img src=\"https://colab.research.google.com/assets/colab-badge.svg\" alt=\"Open In Colab\"/></a>"
      ]
    },
    {
      "cell_type": "code",
      "metadata": {
        "id": "CzJ1iOmM3fD3",
        "colab_type": "code",
        "outputId": "e2f8b003-8891-4a4b-9fd4-449971e4f627",
        "colab": {
          "base_uri": "https://localhost:8080/",
          "height": 120
        }
      },
      "source": [
        "from google.colab import drive\n",
        "drive.mount('/content/drive')"
      ],
      "execution_count": 1,
      "outputs": [
        {
          "output_type": "stream",
          "text": [
            "Go to this URL in a browser: https://accounts.google.com/o/oauth2/auth?client_id=947318989803-6bn6qk8qdgf4n4g3pfee6491hc0brc4i.apps.googleusercontent.com&redirect_uri=urn%3Aietf%3Awg%3Aoauth%3A2.0%3Aoob&scope=email%20https%3A%2F%2Fwww.googleapis.com%2Fauth%2Fdocs.test%20https%3A%2F%2Fwww.googleapis.com%2Fauth%2Fdrive%20https%3A%2F%2Fwww.googleapis.com%2Fauth%2Fdrive.photos.readonly%20https%3A%2F%2Fwww.googleapis.com%2Fauth%2Fpeopleapi.readonly&response_type=code\n",
            "\n",
            "Enter your authorization code:\n",
            "··········\n",
            "Mounted at /content/drive\n"
          ],
          "name": "stdout"
        }
      ]
    },
    {
      "cell_type": "code",
      "metadata": {
        "id": "ox4IIkLrrHu8",
        "colab_type": "code",
        "colab": {}
      },
      "source": [
        "def movefile(source,dest):\n",
        "    os.rename(source, dest)"
      ],
      "execution_count": 0,
      "outputs": []
    },
    {
      "cell_type": "code",
      "metadata": {
        "id": "QItD8Kqw3OZx",
        "colab_type": "code",
        "outputId": "aa484258-dbff-400a-a7ee-993cfa49a917",
        "colab": {
          "base_uri": "https://localhost:8080/",
          "height": 204
        }
      },
      "source": [
        "!pip install mtcnn"
      ],
      "execution_count": 2,
      "outputs": [
        {
          "output_type": "stream",
          "text": [
            "Collecting mtcnn\n",
            "\u001b[?25l  Downloading https://files.pythonhosted.org/packages/9e/c7/8546b18fbd367b156c5bbbbaa8912ab31c8129171523ff8b47b546d70b09/mtcnn-0.0.9.tar.gz (2.3MB)\n",
            "\u001b[K     |████████████████████████████████| 2.3MB 3.5MB/s \n",
            "\u001b[?25hBuilding wheels for collected packages: mtcnn\n",
            "  Building wheel for mtcnn (setup.py) ... \u001b[?25l\u001b[?25hdone\n",
            "  Created wheel for mtcnn: filename=mtcnn-0.0.9-cp36-none-any.whl size=2257690 sha256=6ac45254fd5a00c549cc3891b31f8d78f0fc2b72ece134782bd73f6539324e64\n",
            "  Stored in directory: /root/.cache/pip/wheels/85/81/65/6363fa5aafd7a155c896591e0c7c6e27b69642aa82b9cbf076\n",
            "Successfully built mtcnn\n",
            "Installing collected packages: mtcnn\n",
            "Successfully installed mtcnn-0.0.9\n"
          ],
          "name": "stdout"
        }
      ]
    },
    {
      "cell_type": "code",
      "metadata": {
        "id": "YgO4Eh5033OO",
        "colab_type": "code",
        "outputId": "1e168f8a-63ad-4291-a961-00af784315e1",
        "colab": {
          "base_uri": "https://localhost:8080/"
        }
      },
      "source": [
        "!pip install git+https://github.com/rcmalli/keras-vggface.git"
      ],
      "execution_count": 3,
      "outputs": [
        {
          "output_type": "stream",
          "text": [
            "Collecting git+https://github.com/rcmalli/keras-vggface.git\n",
            "  Cloning https://github.com/rcmalli/keras-vggface.git to /tmp/pip-req-build-5hl15eul\n",
            "  Running command git clone -q https://github.com/rcmalli/keras-vggface.git /tmp/pip-req-build-5hl15eul\n",
            "Requirement already satisfied: numpy>=1.9.1 in /usr/local/lib/python3.6/dist-packages (from keras-vggface==0.6) (1.16.5)\n",
            "Requirement already satisfied: scipy>=0.14 in /usr/local/lib/python3.6/dist-packages (from keras-vggface==0.6) (1.3.1)\n",
            "Requirement already satisfied: h5py in /usr/local/lib/python3.6/dist-packages (from keras-vggface==0.6) (2.8.0)\n",
            "Requirement already satisfied: pillow in /usr/local/lib/python3.6/dist-packages (from keras-vggface==0.6) (4.3.0)\n",
            "Requirement already satisfied: keras in /usr/local/lib/python3.6/dist-packages (from keras-vggface==0.6) (2.2.5)\n",
            "Requirement already satisfied: six>=1.9.0 in /usr/local/lib/python3.6/dist-packages (from keras-vggface==0.6) (1.12.0)\n",
            "Requirement already satisfied: pyyaml in /usr/local/lib/python3.6/dist-packages (from keras-vggface==0.6) (3.13)\n",
            "Requirement already satisfied: olefile in /usr/local/lib/python3.6/dist-packages (from pillow->keras-vggface==0.6) (0.46)\n",
            "Requirement already satisfied: keras-preprocessing>=1.1.0 in /usr/local/lib/python3.6/dist-packages (from keras->keras-vggface==0.6) (1.1.0)\n",
            "Requirement already satisfied: keras-applications>=1.0.8 in /usr/local/lib/python3.6/dist-packages (from keras->keras-vggface==0.6) (1.0.8)\n",
            "Building wheels for collected packages: keras-vggface\n",
            "  Building wheel for keras-vggface (setup.py) ... \u001b[?25l\u001b[?25hdone\n",
            "  Created wheel for keras-vggface: filename=keras_vggface-0.6-cp36-none-any.whl size=8311 sha256=eb9a925704fec12094ebcf1bc707426336a43fdddc01a6655a0d2fb7d7f28d8d\n",
            "  Stored in directory: /tmp/pip-ephem-wheel-cache-f0tjkcb_/wheels/36/07/46/06c25ce8e9cd396dabe151ea1d8a2bc28dafcb11321c1f3a6d\n",
            "Successfully built keras-vggface\n",
            "Installing collected packages: keras-vggface\n",
            "Successfully installed keras-vggface-0.6\n"
          ],
          "name": "stdout"
        }
      ]
    },
    {
      "cell_type": "code",
      "metadata": {
        "id": "peUzWqrIrUUa",
        "colab_type": "code",
        "colab": {
          "base_uri": "https://localhost:8080/"
        },
        "outputId": "327b48ea-4df3-43f7-a8c2-7aa3a7ea9e8d"
      },
      "source": [
        "import numpy as np\n",
        "import cv2\n",
        "from keras.models import Model, Sequential, model_from_json\n",
        "from keras.layers import Input, Convolution2D, ZeroPadding2D, MaxPooling2D, Flatten, Dense, Dropout, Activation\n",
        "from PIL import Image\n",
        "from keras.preprocessing.image import load_img, save_img, img_to_array\n",
        "from keras.applications.imagenet_utils import preprocess_input\n",
        "from keras.preprocessing import image\n",
        "from keras.preprocessing.image import ImageDataGenerator\n",
        "from keras.optimizers import Adam, RMSprop\n",
        "from keras.models import load_model\n",
        "\n",
        "from mtcnn.mtcnn import MTCNN\n",
        "\n",
        "import matplotlib.pyplot as plt\n",
        "\n",
        "import os\n",
        "from os import walk\n",
        "from os import listdir\n",
        "from os.path import join\n",
        "import glob\n",
        "\n",
        "import cv2"
      ],
      "execution_count": 4,
      "outputs": [
        {
          "output_type": "stream",
          "text": [
            "Using TensorFlow backend.\n"
          ],
          "name": "stderr"
        }
      ]
    },
    {
      "cell_type": "code",
      "metadata": {
        "id": "H4jriKKY9BLd",
        "colab_type": "code",
        "outputId": "1cd8c8ef-63f4-4aa0-d8fc-11955d146a02",
        "colab": {
          "base_uri": "https://localhost:8080/"
        }
      },
      "source": [
        "detector = MTCNN()"
      ],
      "execution_count": 5,
      "outputs": [
        {
          "output_type": "stream",
          "text": [
            "WARNING:tensorflow:From /usr/local/lib/python3.6/dist-packages/mtcnn/mtcnn.py:187: The name tf.ConfigProto is deprecated. Please use tf.compat.v1.ConfigProto instead.\n",
            "\n",
            "WARNING:tensorflow:From /usr/local/lib/python3.6/dist-packages/mtcnn/mtcnn.py:193: The name tf.Session is deprecated. Please use tf.compat.v1.Session instead.\n",
            "\n",
            "WARNING:tensorflow:From /usr/local/lib/python3.6/dist-packages/mtcnn/network.py:43: The name tf.variable_scope is deprecated. Please use tf.compat.v1.variable_scope instead.\n",
            "\n",
            "WARNING:tensorflow:From /usr/local/lib/python3.6/dist-packages/mtcnn/layer_factory.py:88: The name tf.placeholder is deprecated. Please use tf.compat.v1.placeholder instead.\n",
            "\n",
            "WARNING:tensorflow:From /usr/local/lib/python3.6/dist-packages/mtcnn/layer_factory.py:79: The name tf.get_variable is deprecated. Please use tf.compat.v1.get_variable instead.\n",
            "\n",
            "WARNING:tensorflow:From /usr/local/lib/python3.6/dist-packages/mtcnn/layer_factory.py:171: The name tf.nn.max_pool is deprecated. Please use tf.nn.max_pool2d instead.\n",
            "\n",
            "WARNING:tensorflow:From /usr/local/lib/python3.6/dist-packages/mtcnn/layer_factory.py:221: div (from tensorflow.python.ops.math_ops) is deprecated and will be removed in a future version.\n",
            "Instructions for updating:\n",
            "Deprecated in favor of operator or tf.math.divide.\n",
            "WARNING:tensorflow:From /usr/local/lib/python3.6/dist-packages/mtcnn/layer_factory.py:196: The name tf.nn.xw_plus_b is deprecated. Please use tf.compat.v1.nn.xw_plus_b instead.\n",
            "\n"
          ],
          "name": "stdout"
        }
      ]
    },
    {
      "cell_type": "code",
      "metadata": {
        "id": "NSAgGpUCpxD2",
        "colab_type": "code",
        "colab": {}
      },
      "source": [
        "batch_size = 20\n",
        "epochs = 2\n",
        "steps_per_epoch = 100"
      ],
      "execution_count": 0,
      "outputs": []
    },
    {
      "cell_type": "code",
      "metadata": {
        "id": "cb9cNRzic_bm",
        "colab_type": "code",
        "outputId": "f7cc8f7d-507b-4d0e-f68b-bc8dbd4dc417",
        "colab": {
          "base_uri": "https://localhost:8080/",
          "height": 50
        }
      },
      "source": [
        "train_dir = '/content/drive/My Drive/Colab Notebooks/face recognition/images/temp folder/train'\n",
        "test_dir = '/content/drive/My Drive/Colab Notebooks/face recognition/images/temp folder/test'\n",
        "\n",
        "input_shape=(224,224)\n",
        "datagen_train = ImageDataGenerator(\n",
        "      rescale=1./255,\n",
        "      rotation_range=45,\n",
        "      vertical_flip=True,\n",
        "      fill_mode='nearest')\n",
        "datagen_test = ImageDataGenerator(rescale=1./255)\n",
        "generator_train = datagen_train.flow_from_directory(directory=train_dir,\n",
        "                                                    target_size=input_shape,\n",
        "                                                    batch_size=batch_size,\n",
        "                                                    shuffle=True)\n",
        "generator_test = datagen_test.flow_from_directory(directory=test_dir,\n",
        "                                                  target_size=input_shape,\n",
        "                                                  batch_size=batch_size,\n",
        "                                                  shuffle=False)\n",
        "\n",
        "steps_test = generator_test.n / batch_size\n",
        "num_classes = generator_train.num_classes\n",
        "cls_train = generator_train.classes\n",
        "cls_test = generator_test.classes"
      ],
      "execution_count": 7,
      "outputs": [
        {
          "output_type": "stream",
          "text": [
            "Found 487 images belonging to 6 classes.\n",
            "Found 147 images belonging to 6 classes.\n"
          ],
          "name": "stdout"
        }
      ]
    },
    {
      "cell_type": "code",
      "metadata": {
        "id": "KT3NiU_M4M9B",
        "colab_type": "code",
        "colab": {}
      },
      "source": [
        "def path_join(dirname, filenames):\n",
        "    return [os.path.join(dirname, filename) for filename in filenames]"
      ],
      "execution_count": 0,
      "outputs": []
    },
    {
      "cell_type": "code",
      "metadata": {
        "id": "0l0gCXI-3Wfg",
        "colab_type": "code",
        "outputId": "b9d0471b-3dca-4786-976c-cb74bb5ba78e",
        "colab": {
          "base_uri": "https://localhost:8080/",
          "height": 70
        }
      },
      "source": [
        "steps_test = generator_test.n / batch_size\n",
        "image_paths_train = path_join(train_dir, generator_train.filenames)\n",
        "image_paths_test = path_join(test_dir, generator_test.filenames)\n",
        "cls_train = generator_train.classes\n",
        "cls_test = generator_test.classes\n",
        "class_names = list(generator_train.class_indices.keys())\n",
        "print('class name',class_names)\n",
        "num_classes = generator_train.num_classes\n",
        "print('num classes',num_classes)"
      ],
      "execution_count": 9,
      "outputs": [
        {
          "output_type": "stream",
          "text": [
            "class name ['Scarlett Johansson', 'Willa Holland', 'alexandra daddario', 'amber heard face', 'anne hathaway', 'kaushal']\n",
            "num classes 6\n"
          ],
          "name": "stdout"
        }
      ]
    },
    {
      "cell_type": "code",
      "metadata": {
        "id": "76YEDWM0gnV-",
        "colab_type": "code",
        "outputId": "c733dc26-fc2d-4caf-aeb6-0751ab35ed20",
        "colab": {
          "base_uri": "https://localhost:8080/",
          "height": 1000
        }
      },
      "source": [
        "def loadVggFaceModel():\n",
        "    model = Sequential()\n",
        "    model.add(ZeroPadding2D((1,1),input_shape=(224,224, 3)))\n",
        "    model.add(Convolution2D(64, (3, 3), activation='relu'))\n",
        "    model.add(ZeroPadding2D((1,1)))\n",
        "    model.add(Convolution2D(64, (3, 3), activation='relu'))\n",
        "    model.add(MaxPooling2D((2,2), strides=(2,2)))\n",
        "\n",
        "    model.add(ZeroPadding2D((1,1)))\n",
        "    model.add(Convolution2D(128, (3, 3), activation='relu'))\n",
        "    model.add(ZeroPadding2D((1,1)))\n",
        "    model.add(Convolution2D(128, (3, 3), activation='relu'))\n",
        "    model.add(MaxPooling2D((2,2), strides=(2,2)))\n",
        "\n",
        "    model.add(ZeroPadding2D((1,1)))\n",
        "    model.add(Convolution2D(256, (3, 3), activation='relu'))\n",
        "    model.add(ZeroPadding2D((1,1)))\n",
        "    model.add(Convolution2D(256, (3, 3), activation='relu'))\n",
        "    model.add(ZeroPadding2D((1,1)))\n",
        "    model.add(Convolution2D(256, (3, 3), activation='relu'))\n",
        "    model.add(MaxPooling2D((2,2), strides=(2,2)))\n",
        "\n",
        "    model.add(ZeroPadding2D((1,1)))\n",
        "    model.add(Convolution2D(512, (3, 3), activation='relu'))\n",
        "    model.add(ZeroPadding2D((1,1)))\n",
        "    model.add(Convolution2D(512, (3, 3), activation='relu'))\n",
        "    model.add(ZeroPadding2D((1,1)))\n",
        "    model.add(Convolution2D(512, (3, 3), activation='relu'))\n",
        "    model.add(MaxPooling2D((2,2), strides=(2,2)))\n",
        "\n",
        "    model.add(ZeroPadding2D((1,1)))\n",
        "    model.add(Convolution2D(512, (3, 3), activation='relu'))\n",
        "    model.add(ZeroPadding2D((1,1)))\n",
        "    model.add(Convolution2D(512, (3, 3), activation='relu'))\n",
        "    model.add(ZeroPadding2D((1,1)))\n",
        "    model.add(Convolution2D(512, (3, 3), activation='relu'))\n",
        "    model.add(MaxPooling2D((2,2), strides=(2,2)))\n",
        "\n",
        "    model.add(Convolution2D(4096, (7, 7), activation='relu'))\n",
        "    model.add(Dropout(0.5))\n",
        "    model.add(Convolution2D(4096, (1, 1), activation='relu'))\n",
        "    model.add(Dropout(0.5))\n",
        "    model.add(Convolution2D(2622, (1, 1)))\n",
        "    model.add(Flatten())\n",
        "    model.add(Activation('softmax'))\n",
        "    model.load_weights('/content/drive/My Drive/Colab Notebooks/face recognition/vgg_face_weights.h5')\n",
        "    loaded_model = Model(inputs=model.layers[0].input, outputs=model.layers[-2].output)\n",
        "#     predictions = Dense(6, activation = 'softmax')(loaded_model.output)\n",
        "#     new_model = Model(input = loaded_model.input, output = predictions)\n",
        "    return loaded_model\n",
        "\n",
        "vgg_model = loadVggFaceModel()\n",
        "vgg_model.summary()"
      ],
      "execution_count": 82,
      "outputs": [
        {
          "output_type": "stream",
          "text": [
            "Model: \"model_2\"\n",
            "_________________________________________________________________\n",
            "Layer (type)                 Output Shape              Param #   \n",
            "=================================================================\n",
            "zero_padding2d_14_input (Inp (None, 224, 224, 3)       0         \n",
            "_________________________________________________________________\n",
            "zero_padding2d_14 (ZeroPaddi (None, 226, 226, 3)       0         \n",
            "_________________________________________________________________\n",
            "conv2d_17 (Conv2D)           (None, 224, 224, 64)      1792      \n",
            "_________________________________________________________________\n",
            "zero_padding2d_15 (ZeroPaddi (None, 226, 226, 64)      0         \n",
            "_________________________________________________________________\n",
            "conv2d_18 (Conv2D)           (None, 224, 224, 64)      36928     \n",
            "_________________________________________________________________\n",
            "max_pooling2d_6 (MaxPooling2 (None, 112, 112, 64)      0         \n",
            "_________________________________________________________________\n",
            "zero_padding2d_16 (ZeroPaddi (None, 114, 114, 64)      0         \n",
            "_________________________________________________________________\n",
            "conv2d_19 (Conv2D)           (None, 112, 112, 128)     73856     \n",
            "_________________________________________________________________\n",
            "zero_padding2d_17 (ZeroPaddi (None, 114, 114, 128)     0         \n",
            "_________________________________________________________________\n",
            "conv2d_20 (Conv2D)           (None, 112, 112, 128)     147584    \n",
            "_________________________________________________________________\n",
            "max_pooling2d_7 (MaxPooling2 (None, 56, 56, 128)       0         \n",
            "_________________________________________________________________\n",
            "zero_padding2d_18 (ZeroPaddi (None, 58, 58, 128)       0         \n",
            "_________________________________________________________________\n",
            "conv2d_21 (Conv2D)           (None, 56, 56, 256)       295168    \n",
            "_________________________________________________________________\n",
            "zero_padding2d_19 (ZeroPaddi (None, 58, 58, 256)       0         \n",
            "_________________________________________________________________\n",
            "conv2d_22 (Conv2D)           (None, 56, 56, 256)       590080    \n",
            "_________________________________________________________________\n",
            "zero_padding2d_20 (ZeroPaddi (None, 58, 58, 256)       0         \n",
            "_________________________________________________________________\n",
            "conv2d_23 (Conv2D)           (None, 56, 56, 256)       590080    \n",
            "_________________________________________________________________\n",
            "max_pooling2d_8 (MaxPooling2 (None, 28, 28, 256)       0         \n",
            "_________________________________________________________________\n",
            "zero_padding2d_21 (ZeroPaddi (None, 30, 30, 256)       0         \n",
            "_________________________________________________________________\n",
            "conv2d_24 (Conv2D)           (None, 28, 28, 512)       1180160   \n",
            "_________________________________________________________________\n",
            "zero_padding2d_22 (ZeroPaddi (None, 30, 30, 512)       0         \n",
            "_________________________________________________________________\n",
            "conv2d_25 (Conv2D)           (None, 28, 28, 512)       2359808   \n",
            "_________________________________________________________________\n",
            "zero_padding2d_23 (ZeroPaddi (None, 30, 30, 512)       0         \n",
            "_________________________________________________________________\n",
            "conv2d_26 (Conv2D)           (None, 28, 28, 512)       2359808   \n",
            "_________________________________________________________________\n",
            "max_pooling2d_9 (MaxPooling2 (None, 14, 14, 512)       0         \n",
            "_________________________________________________________________\n",
            "zero_padding2d_24 (ZeroPaddi (None, 16, 16, 512)       0         \n",
            "_________________________________________________________________\n",
            "conv2d_27 (Conv2D)           (None, 14, 14, 512)       2359808   \n",
            "_________________________________________________________________\n",
            "zero_padding2d_25 (ZeroPaddi (None, 16, 16, 512)       0         \n",
            "_________________________________________________________________\n",
            "conv2d_28 (Conv2D)           (None, 14, 14, 512)       2359808   \n",
            "_________________________________________________________________\n",
            "zero_padding2d_26 (ZeroPaddi (None, 16, 16, 512)       0         \n",
            "_________________________________________________________________\n",
            "conv2d_29 (Conv2D)           (None, 14, 14, 512)       2359808   \n",
            "_________________________________________________________________\n",
            "max_pooling2d_10 (MaxPooling (None, 7, 7, 512)         0         \n",
            "_________________________________________________________________\n",
            "conv2d_30 (Conv2D)           (None, 1, 1, 4096)        102764544 \n",
            "_________________________________________________________________\n",
            "dropout_4 (Dropout)          (None, 1, 1, 4096)        0         \n",
            "_________________________________________________________________\n",
            "conv2d_31 (Conv2D)           (None, 1, 1, 4096)        16781312  \n",
            "_________________________________________________________________\n",
            "dropout_5 (Dropout)          (None, 1, 1, 4096)        0         \n",
            "_________________________________________________________________\n",
            "conv2d_32 (Conv2D)           (None, 1, 1, 2622)        10742334  \n",
            "_________________________________________________________________\n",
            "flatten_2 (Flatten)          (None, 2622)              0         \n",
            "=================================================================\n",
            "Total params: 145,002,878\n",
            "Trainable params: 145,002,878\n",
            "Non-trainable params: 0\n",
            "_________________________________________________________________\n"
          ],
          "name": "stdout"
        }
      ]
    },
    {
      "cell_type": "code",
      "metadata": {
        "id": "7mV0_0ZCS44N",
        "colab_type": "code",
        "colab": {}
      },
      "source": [
        "new_model = Sequential()\n",
        "new_model.add(vgg_model)\n",
        "new_model.add(Dense(1024, activation='relu'))\n",
        "new_model.add(Dropout(.5))\n",
        "new_model.add(Dense(num_classes,activation='softmax'))"
      ],
      "execution_count": 0,
      "outputs": []
    },
    {
      "cell_type": "code",
      "metadata": {
        "id": "b5xb2_MhTMPO",
        "colab_type": "code",
        "colab": {}
      },
      "source": [
        "optimizer = Adam(lr=1e-5)\n",
        "loss = 'categorical_crossentropy'\n",
        "metrics = ['categorical_accuracy']"
      ],
      "execution_count": 0,
      "outputs": []
    },
    {
      "cell_type": "code",
      "metadata": {
        "id": "jbx9UXuQnG9O",
        "colab_type": "code",
        "outputId": "93a86956-5f27-4d8c-95c0-f6d8c0e12e7d",
        "colab": {
          "base_uri": "https://localhost:8080/",
          "height": 652
        }
      },
      "source": [
        "def print_layer_trainable(model):\n",
        "    for layer in model.layers:\n",
        "        print(\"{0}:\\t{1}\".format(layer.trainable, layer.name))\n",
        "        \n",
        "print_layer_trainable(vgg_model)"
      ],
      "execution_count": 85,
      "outputs": [
        {
          "output_type": "stream",
          "text": [
            "False:\tzero_padding2d_14_input\n",
            "True:\tzero_padding2d_14\n",
            "True:\tconv2d_17\n",
            "True:\tzero_padding2d_15\n",
            "True:\tconv2d_18\n",
            "True:\tmax_pooling2d_6\n",
            "True:\tzero_padding2d_16\n",
            "True:\tconv2d_19\n",
            "True:\tzero_padding2d_17\n",
            "True:\tconv2d_20\n",
            "True:\tmax_pooling2d_7\n",
            "True:\tzero_padding2d_18\n",
            "True:\tconv2d_21\n",
            "True:\tzero_padding2d_19\n",
            "True:\tconv2d_22\n",
            "True:\tzero_padding2d_20\n",
            "True:\tconv2d_23\n",
            "True:\tmax_pooling2d_8\n",
            "True:\tzero_padding2d_21\n",
            "True:\tconv2d_24\n",
            "True:\tzero_padding2d_22\n",
            "True:\tconv2d_25\n",
            "True:\tzero_padding2d_23\n",
            "True:\tconv2d_26\n",
            "True:\tmax_pooling2d_9\n",
            "True:\tzero_padding2d_24\n",
            "True:\tconv2d_27\n",
            "True:\tzero_padding2d_25\n",
            "True:\tconv2d_28\n",
            "True:\tzero_padding2d_26\n",
            "True:\tconv2d_29\n",
            "True:\tmax_pooling2d_10\n",
            "True:\tconv2d_30\n",
            "True:\tdropout_4\n",
            "True:\tconv2d_31\n",
            "True:\tdropout_5\n",
            "True:\tconv2d_32\n",
            "True:\tflatten_2\n"
          ],
          "name": "stdout"
        }
      ]
    },
    {
      "cell_type": "code",
      "metadata": {
        "id": "eN8NeRyXnLgw",
        "colab_type": "code",
        "outputId": "d6a41202-5528-4076-afb0-7b32c55d75ed",
        "colab": {
          "base_uri": "https://localhost:8080/",
          "height": 736
        }
      },
      "source": [
        "vgg_model.trainable = False #i dont know why it didnt work\n",
        "for layer in vgg_model.layers:\n",
        "    layer.trainable = False\n",
        "print_layer_trainable(new_model)\n",
        "print('new model')\n",
        "print_layer_trainable(vgg_model)"
      ],
      "execution_count": 86,
      "outputs": [
        {
          "output_type": "stream",
          "text": [
            "False:\tmodel_2\n",
            "True:\tdense_3\n",
            "True:\tdropout_6\n",
            "True:\tdense_4\n",
            "new model\n",
            "False:\tzero_padding2d_14_input\n",
            "False:\tzero_padding2d_14\n",
            "False:\tconv2d_17\n",
            "False:\tzero_padding2d_15\n",
            "False:\tconv2d_18\n",
            "False:\tmax_pooling2d_6\n",
            "False:\tzero_padding2d_16\n",
            "False:\tconv2d_19\n",
            "False:\tzero_padding2d_17\n",
            "False:\tconv2d_20\n",
            "False:\tmax_pooling2d_7\n",
            "False:\tzero_padding2d_18\n",
            "False:\tconv2d_21\n",
            "False:\tzero_padding2d_19\n",
            "False:\tconv2d_22\n",
            "False:\tzero_padding2d_20\n",
            "False:\tconv2d_23\n",
            "False:\tmax_pooling2d_8\n",
            "False:\tzero_padding2d_21\n",
            "False:\tconv2d_24\n",
            "False:\tzero_padding2d_22\n",
            "False:\tconv2d_25\n",
            "False:\tzero_padding2d_23\n",
            "False:\tconv2d_26\n",
            "False:\tmax_pooling2d_9\n",
            "False:\tzero_padding2d_24\n",
            "False:\tconv2d_27\n",
            "False:\tzero_padding2d_25\n",
            "False:\tconv2d_28\n",
            "False:\tzero_padding2d_26\n",
            "False:\tconv2d_29\n",
            "False:\tmax_pooling2d_10\n",
            "False:\tconv2d_30\n",
            "False:\tdropout_4\n",
            "False:\tconv2d_31\n",
            "False:\tdropout_5\n",
            "False:\tconv2d_32\n",
            "False:\tflatten_2\n"
          ],
          "name": "stdout"
        }
      ]
    },
    {
      "cell_type": "code",
      "metadata": {
        "id": "qXnfrC9gotGS",
        "colab_type": "code",
        "colab": {}
      },
      "source": [
        "new_model.compile(optimizer=optimizer, loss=loss, metrics=metrics)"
      ],
      "execution_count": 0,
      "outputs": []
    },
    {
      "cell_type": "code",
      "metadata": {
        "id": "jbFS6drH4zbh",
        "colab_type": "code",
        "outputId": "e96b5569-0f49-4590-a991-23461d051e54",
        "colab": {
          "base_uri": "https://localhost:8080/",
          "height": 33
        }
      },
      "source": [
        "from sklearn.utils.class_weight import compute_class_weight\n",
        "class_weight = compute_class_weight(class_weight='balanced',\n",
        "                                    classes=np.unique(cls_train),\n",
        "                                    y=cls_train)\n",
        "print(class_weight)"
      ],
      "execution_count": 10,
      "outputs": [
        {
          "output_type": "stream",
          "text": [
            "[0.86347518 1.22979798 0.75154321 1.1763285  0.9898374  1.19362745]\n"
          ],
          "name": "stdout"
        }
      ]
    },
    {
      "cell_type": "code",
      "metadata": {
        "id": "waG3exQpzKzF",
        "colab_type": "code",
        "outputId": "369dbe0f-4c60-405d-bdf0-347d05c5f872",
        "colab": {
          "base_uri": "https://localhost:8080/",
          "height": 572
        }
      },
      "source": [
        "#fit new vgg model\n",
        "all_history =[]\n",
        "for i in range(100):\n",
        "    history = new_model.fit_generator(\n",
        "            generator=generator_train,\n",
        "            epochs=epochs,\n",
        "            steps_per_epoch=steps_per_epoch,\n",
        "            class_weight=class_weight,\n",
        "            validation_data=generator_test)\n",
        "    generator_test.reset()\n",
        "    result = loaded_vgg_model.evaluate_generator(generator_test, steps=steps_test)\n",
        "    print('result: ',result)\n",
        "    if i%10==0:\n",
        "        new_model.save('/content/drive/My Drive/Colab Notebooks/face recognition/model.h5')"
      ],
      "execution_count": 0,
      "outputs": [
        {
          "output_type": "stream",
          "text": [
            "Epoch 1/2\n",
            "100/100 [==============================] - 41s 408ms/step - loss: 1.7766 - categorical_accuracy: 0.2416 - val_loss: 1.7369 - val_categorical_accuracy: 0.6122\n",
            "Epoch 2/2\n",
            "100/100 [==============================] - 39s 392ms/step - loss: 1.7452 - categorical_accuracy: 0.3957 - val_loss: 1.6892 - val_categorical_accuracy: 0.6122\n",
            "result:  [1.1913758240589478, 0.8027210819477938]\n",
            "Epoch 1/2\n",
            "100/100 [==============================] - 41s 412ms/step - loss: 1.7133 - categorical_accuracy: 0.4281 - val_loss: 1.6382 - val_categorical_accuracy: 0.5986\n",
            "Epoch 2/2\n",
            "100/100 [==============================] - 39s 390ms/step - loss: 1.6795 - categorical_accuracy: 0.4496 - val_loss: 1.5855 - val_categorical_accuracy: 0.6190\n",
            "result:  [1.1913758240589478, 0.8027210819477938]\n",
            "Epoch 1/2\n",
            "100/100 [==============================] - 41s 407ms/step - loss: 1.6457 - categorical_accuracy: 0.4643 - val_loss: 1.5339 - val_categorical_accuracy: 0.6190\n",
            "Epoch 2/2\n",
            "100/100 [==============================] - 39s 390ms/step - loss: 1.6156 - categorical_accuracy: 0.4618 - val_loss: 1.4800 - val_categorical_accuracy: 0.6327\n",
            "result:  [1.1913758240589478, 0.8027210819477938]\n",
            "Epoch 1/2\n",
            "100/100 [==============================] - 40s 401ms/step - loss: 1.5836 - categorical_accuracy: 0.4922 - val_loss: 1.4270 - val_categorical_accuracy: 0.6599\n",
            "Epoch 2/2\n",
            "100/100 [==============================] - 39s 387ms/step - loss: 1.5594 - categorical_accuracy: 0.5198 - val_loss: 1.3745 - val_categorical_accuracy: 0.6939\n",
            "result:  [1.1913758240589478, 0.8027210819477938]\n",
            "Epoch 1/2\n",
            "100/100 [==============================] - 40s 403ms/step - loss: 1.5259 - categorical_accuracy: 0.5310 - val_loss: 1.3252 - val_categorical_accuracy: 0.7347\n",
            "Epoch 2/2\n",
            "100/100 [==============================] - 39s 390ms/step - loss: 1.4912 - categorical_accuracy: 0.5529 - val_loss: 1.2743 - val_categorical_accuracy: 0.7687\n",
            "result:  [1.1913758240589478, 0.8027210819477938]\n",
            "Epoch 1/2\n",
            "100/100 [==============================] - 40s 404ms/step - loss: 1.4697 - categorical_accuracy: 0.5515 - val_loss: 1.2283 - val_categorical_accuracy: 0.7891\n",
            "Epoch 2/2\n",
            "100/100 [==============================] - 39s 393ms/step - loss: 1.4292 - categorical_accuracy: 0.5765 - val_loss: 1.1830 - val_categorical_accuracy: 0.7891\n",
            "result:  [1.1913758240589478, 0.8027210819477938]\n",
            "Epoch 1/2\n",
            " 76/100 [=====================>........] - ETA: 9s - loss: 1.4148 - categorical_accuracy: 0.5674"
          ],
          "name": "stdout"
        }
      ]
    },
    {
      "cell_type": "code",
      "metadata": {
        "id": "q0jJf8nyvjp6",
        "colab_type": "code",
        "outputId": "941a4ab7-d5b5-44e2-b2b0-28dd5270e11a",
        "colab": {
          "base_uri": "https://localhost:8080/",
          "height": 538
        }
      },
      "source": [
        "print('loading model')\n",
        "loaded_vgg_model = load_model('/content/drive/My Drive/Colab Notebooks/face recognition/model.h5')\n",
        "print('model loaded')"
      ],
      "execution_count": 11,
      "outputs": [
        {
          "output_type": "stream",
          "text": [
            "loading model\n",
            "WARNING:tensorflow:From /usr/local/lib/python3.6/dist-packages/keras/backend/tensorflow_backend.py:4432: The name tf.random_uniform is deprecated. Please use tf.random.uniform instead.\n",
            "\n",
            "WARNING:tensorflow:From /usr/local/lib/python3.6/dist-packages/keras/backend/tensorflow_backend.py:66: The name tf.get_default_graph is deprecated. Please use tf.compat.v1.get_default_graph instead.\n",
            "\n",
            "WARNING:tensorflow:From /usr/local/lib/python3.6/dist-packages/keras/backend/tensorflow_backend.py:148: The name tf.placeholder_with_default is deprecated. Please use tf.compat.v1.placeholder_with_default instead.\n",
            "\n",
            "WARNING:tensorflow:From /usr/local/lib/python3.6/dist-packages/keras/backend/tensorflow_backend.py:3733: calling dropout (from tensorflow.python.ops.nn_ops) with keep_prob is deprecated and will be removed in a future version.\n",
            "Instructions for updating:\n",
            "Please use `rate` instead of `keep_prob`. Rate should be set to `rate = 1 - keep_prob`.\n",
            "WARNING:tensorflow:From /usr/local/lib/python3.6/dist-packages/keras/backend/tensorflow_backend.py:190: The name tf.get_default_session is deprecated. Please use tf.compat.v1.get_default_session instead.\n",
            "\n",
            "WARNING:tensorflow:From /usr/local/lib/python3.6/dist-packages/keras/backend/tensorflow_backend.py:207: The name tf.global_variables is deprecated. Please use tf.compat.v1.global_variables instead.\n",
            "\n",
            "WARNING:tensorflow:From /usr/local/lib/python3.6/dist-packages/keras/backend/tensorflow_backend.py:216: The name tf.is_variable_initialized is deprecated. Please use tf.compat.v1.is_variable_initialized instead.\n",
            "\n",
            "WARNING:tensorflow:From /usr/local/lib/python3.6/dist-packages/keras/backend/tensorflow_backend.py:223: The name tf.variables_initializer is deprecated. Please use tf.compat.v1.variables_initializer instead.\n",
            "\n",
            "WARNING:tensorflow:From /usr/local/lib/python3.6/dist-packages/keras/optimizers.py:793: The name tf.train.Optimizer is deprecated. Please use tf.compat.v1.train.Optimizer instead.\n",
            "\n",
            "WARNING:tensorflow:From /usr/local/lib/python3.6/dist-packages/keras/backend/tensorflow_backend.py:3576: The name tf.log is deprecated. Please use tf.math.log instead.\n",
            "\n",
            "WARNING:tensorflow:From /usr/local/lib/python3.6/dist-packages/tensorflow_core/python/ops/math_grad.py:1424: where (from tensorflow.python.ops.array_ops) is deprecated and will be removed in a future version.\n",
            "Instructions for updating:\n",
            "Use tf.where in 2.0, which has the same broadcast rule as np.where\n",
            "WARNING:tensorflow:From /usr/local/lib/python3.6/dist-packages/keras/backend/tensorflow_backend.py:1033: The name tf.assign_add is deprecated. Please use tf.compat.v1.assign_add instead.\n",
            "\n",
            "WARNING:tensorflow:From /usr/local/lib/python3.6/dist-packages/keras/backend/tensorflow_backend.py:1020: The name tf.assign is deprecated. Please use tf.compat.v1.assign instead.\n",
            "\n",
            "model loaded\n"
          ],
          "name": "stdout"
        }
      ]
    },
    {
      "cell_type": "code",
      "metadata": {
        "id": "V-LHzmZoCpqU",
        "colab_type": "code",
        "outputId": "99342532-2c50-4824-d788-b2e61f539a70",
        "colab": {
          "base_uri": "https://localhost:8080/",
          "height": 284
        }
      },
      "source": [
        "loaded_vgg_model.summary()"
      ],
      "execution_count": 12,
      "outputs": [
        {
          "output_type": "stream",
          "text": [
            "Model: \"sequential_4\"\n",
            "_________________________________________________________________\n",
            "Layer (type)                 Output Shape              Param #   \n",
            "=================================================================\n",
            "model_2 (Model)              (None, 2622)              145002878 \n",
            "_________________________________________________________________\n",
            "dense_3 (Dense)              (None, 1024)              2685952   \n",
            "_________________________________________________________________\n",
            "dropout_6 (Dropout)          (None, 1024)              0         \n",
            "_________________________________________________________________\n",
            "dense_4 (Dense)              (None, 6)                 6150      \n",
            "=================================================================\n",
            "Total params: 147,694,980\n",
            "Trainable params: 2,692,102\n",
            "Non-trainable params: 145,002,878\n",
            "_________________________________________________________________\n"
          ],
          "name": "stdout"
        }
      ]
    },
    {
      "cell_type": "code",
      "metadata": {
        "id": "C18dxTQyIQ9r",
        "colab_type": "code",
        "colab": {}
      },
      "source": [
        "print_layer_trainable(loaded_vgg_model)\n",
        "for layer in loaded_vgg_model.layers:\n",
        "    layer.trainable = False\n",
        "for layer in loaded_vgg_model.layers[-17:]:\n",
        "    layer.trainable = True\n",
        "print('after unfreazing')\n",
        "print_layer_trainable(loaded_vgg_model)"
      ],
      "execution_count": 0,
      "outputs": []
    },
    {
      "cell_type": "code",
      "metadata": {
        "id": "J74N2y06Dlln",
        "colab_type": "code",
        "colab": {}
      },
      "source": [
        "optimizer = Adam(lr=1e-5)\n",
        "loss = 'categorical_crossentropy'\n",
        "metrics = ['categorical_accuracy']\n",
        "loaded_vgg_model.compile(optimizer=optimizer, loss=loss, metrics=metrics)"
      ],
      "execution_count": 0,
      "outputs": []
    },
    {
      "cell_type": "code",
      "metadata": {
        "id": "ZpNc-60SMXPG",
        "colab_type": "code",
        "colab": {}
      },
      "source": [
        "all_history =[]\n",
        "count =0\n",
        "for i in range(100):\n",
        "    history=loaded_vgg_model.fit_generator(\n",
        "            generator=generator_train,\n",
        "            epochs=epochs,\n",
        "            steps_per_epoch=steps_per_epoch,\n",
        "            class_weight=class_weight,\n",
        "            validation_data=generator_test)\n",
        "    all_history.append(history)\n",
        "    generator_test.reset()\n",
        "    result = loaded_vgg_model.evaluate_generator(generator_test, steps=steps_test)\n",
        "    print('result: ',result)\n",
        "    if i%10==0:\n",
        "        loaded_vgg_model.save('/content/drive/My Drive/Colab Notebooks/face recognition/tuned_model.h5')"
      ],
      "execution_count": 0,
      "outputs": []
    },
    {
      "cell_type": "code",
      "metadata": {
        "id": "z-6qQ7mEBu2p",
        "colab_type": "code",
        "colab": {
          "base_uri": "https://localhost:8080/",
          "height": 228
        },
        "outputId": "4027ea94-f411-402f-be2a-d97aef3026c5"
      },
      "source": [
        "cap = cv2.VideoCapture(/content/drive/My Drive/Colab Notebooks/face recognition/20191014_180017.mp4) \n",
        "\n",
        "while(True):\n",
        "    ret, img = cap.read()\n",
        "    #img = cv2.imread(img)\n",
        "    print(img.shape())\n",
        "    faces = detector.detect_faces(img)\n",
        "    for (x,y,w,h) in faces:\n",
        "        if w > 130: \n",
        "            #cv2.rectangle(img,(x,y),(x+w,y+h),(255,0,0),2) #draw rectangle to main image\n",
        "\n",
        "            detected_face = img[int(y):int(y+h), int(x):int(x+w)] #crop detected face\n",
        "            detected_face = cv2.resize(detected_face, (224, 224)) #resize to 224x224\n",
        "\n",
        "            img_pixels = image.img_to_array(detected_face)\n",
        "            img_pixels = np.expand_dims(img_pixels, axis = 0)\n",
        "\n",
        "            img_pixels /= 127.5\n",
        "            img_pixels -= 1\n",
        "\n",
        "            captured_representation = loaded_vgg_model.predict(img_pixels)\n",
        "\n",
        "            print('captured_representation ',captured_representation)\n",
        "            predicted_person = captured_representation.index(max(captured_representation))\n",
        "            print('predicted_person ',predicted_person)\n",
        "            confidence = max(captured_representation)\n",
        "            print('confidence ',confidence)\n",
        "            #y_prob = model.predict(x) \n",
        "            y_classes = captured_representation.argmax(axis=-1)\n",
        "            print(y_classes)\n",
        "            #text = class_names[predicted_person]\n",
        "\n",
        "            if confidence>.6:\n",
        "                text = class_names[predicted_person]\n",
        "            else:\n",
        "                text = 'unknown'\n",
        "            cv2.putText(img, text, (int(x+w+15), int(y-12)), cv2.FONT_HERSHEY_SIMPLEX, 1, color, 2)\n",
        "\n",
        "            cv2.line(img,(int((x+x+w)/2),y+15),(x+w,y-20),color,1)\n",
        "            cv2.line(img,(x+w,y-20),(x+w+10,y-20),color,1)\n",
        "\n",
        "        # \t\t\tif(found == 0): #if found image is not in employee database\n",
        "        # \t\t\t\tcv2.putText(img, 'unknown', (int(x+w+15), int(y-12)), cv2.FONT_HERSHEY_SIMPLEX, 1, color, 2)\n",
        "        #             else:\n",
        "        #                 cv2.putText(img, person_name, (int(x+w+15), int(y-12)), cv2.FONT_HERSHEY_SIMPLEX, 1, color, 2)\n",
        "\n",
        "        cv2.imshow('img',img)\n",
        "\n",
        "    if cv2.waitKey(1) & 0xFF == ord('q'): #press q to quit\n",
        "        break\n",
        "\n",
        "\t\n",
        "#kill open cv things\t\t\n",
        "cap.release()\n",
        "cv2.destroyAllWindows()"
      ],
      "execution_count": 73,
      "outputs": [
        {
          "output_type": "error",
          "ename": "AttributeError",
          "evalue": "ignored",
          "traceback": [
            "\u001b[0;31m---------------------------------------------------------------------------\u001b[0m",
            "\u001b[0;31mAttributeError\u001b[0m                            Traceback (most recent call last)",
            "\u001b[0;32m<ipython-input-73-4d3e5ca45c98>\u001b[0m in \u001b[0;36m<module>\u001b[0;34m()\u001b[0m\n\u001b[1;32m      4\u001b[0m     \u001b[0mret\u001b[0m\u001b[0;34m,\u001b[0m \u001b[0mimg\u001b[0m \u001b[0;34m=\u001b[0m \u001b[0mcap\u001b[0m\u001b[0;34m.\u001b[0m\u001b[0mread\u001b[0m\u001b[0;34m(\u001b[0m\u001b[0;34m)\u001b[0m\u001b[0;34m\u001b[0m\u001b[0;34m\u001b[0m\u001b[0m\n\u001b[1;32m      5\u001b[0m     \u001b[0;31m#img = cv2.imread(img)\u001b[0m\u001b[0;34m\u001b[0m\u001b[0;34m\u001b[0m\u001b[0;34m\u001b[0m\u001b[0m\n\u001b[0;32m----> 6\u001b[0;31m     \u001b[0mprint\u001b[0m\u001b[0;34m(\u001b[0m\u001b[0mimg\u001b[0m\u001b[0;34m.\u001b[0m\u001b[0mshape\u001b[0m\u001b[0;34m(\u001b[0m\u001b[0;34m)\u001b[0m\u001b[0;34m)\u001b[0m\u001b[0;34m\u001b[0m\u001b[0;34m\u001b[0m\u001b[0m\n\u001b[0m\u001b[1;32m      7\u001b[0m     \u001b[0mfaces\u001b[0m \u001b[0;34m=\u001b[0m \u001b[0mdetector\u001b[0m\u001b[0;34m.\u001b[0m\u001b[0mdetect_faces\u001b[0m\u001b[0;34m(\u001b[0m\u001b[0mimg\u001b[0m\u001b[0;34m)\u001b[0m\u001b[0;34m\u001b[0m\u001b[0;34m\u001b[0m\u001b[0m\n\u001b[1;32m      8\u001b[0m     \u001b[0;32mfor\u001b[0m \u001b[0;34m(\u001b[0m\u001b[0mx\u001b[0m\u001b[0;34m,\u001b[0m\u001b[0my\u001b[0m\u001b[0;34m,\u001b[0m\u001b[0mw\u001b[0m\u001b[0;34m,\u001b[0m\u001b[0mh\u001b[0m\u001b[0;34m)\u001b[0m \u001b[0;32min\u001b[0m \u001b[0mfaces\u001b[0m\u001b[0;34m:\u001b[0m\u001b[0;34m\u001b[0m\u001b[0;34m\u001b[0m\u001b[0m\n",
            "\u001b[0;31mAttributeError\u001b[0m: 'NoneType' object has no attribute 'shape'"
          ]
        }
      ]
    },
    {
      "cell_type": "code",
      "metadata": {
        "id": "8cR8rbtfvkMR",
        "colab_type": "code",
        "colab": {}
      },
      "source": [
        ""
      ],
      "execution_count": 0,
      "outputs": []
    }
  ]
}